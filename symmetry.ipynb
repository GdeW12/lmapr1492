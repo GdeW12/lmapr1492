{
 "cells": [
  {
   "cell_type": "code",
   "execution_count": 7,
   "id": "continental-thread",
   "metadata": {},
   "outputs": [],
   "source": [
    "from pymatgen import Lattice, Structure\n",
    "from pymatgen.core.operations import SymmOp\n",
    "from pymatgen.ext.matproj import MPRester\n",
    "from pymatgen.io.cif import CifWriter\n",
    "\n",
    "from jupyter_jsmol.pymatgen import quick_view"
   ]
  },
  {
   "cell_type": "code",
   "execution_count": 8,
   "id": "outside-landscape",
   "metadata": {},
   "outputs": [],
   "source": [
    "#téléchargement du fichier cif\n",
    "with MPRester(\"jUGD1Q7NTzVGDpCRI27\") as m:\n",
    "\n",
    "    # Structure for material id\n",
    "    structure = m.get_structure_by_material_id(\"mp-755219\")\n",
    "    \n",
    "    w = CifWriter(structure,symprec=1e-5);\n",
    "    w.write_file('ScTlO2.cif')"
   ]
  },
  {
   "cell_type": "code",
   "execution_count": 9,
   "id": "concrete-consequence",
   "metadata": {},
   "outputs": [],
   "source": [
    "struct = Structure.from_file(\"ScTlO2.cif\")"
   ]
  },
  {
   "cell_type": "markdown",
   "id": "shaped-trading",
   "metadata": {},
   "source": [
    "## Opération de symétrie n°1 : inversion de centre $(\\frac{-1}{6}; \\frac{1}{6}; \\frac{1}{6})$"
   ]
  },
  {
   "cell_type": "code",
   "execution_count": 10,
   "id": "chemical-garden",
   "metadata": {},
   "outputs": [
    {
     "name": "stdout",
     "output_type": "stream",
     "text": [
      "La matrice associée à cette opération est\n",
      "[[-1.  0.  0.]\n",
      " [ 0. -1.  0.]\n",
      " [ 0.  0. -1.]]\n",
      "Le vecteur de translation associé est\n",
      "[-0.33333333  0.33333333  0.33333333]\n"
     ]
    }
   ],
   "source": [
    "SymmOp_1 = SymmOp.from_xyz_string(\"-x-1/3,-y+1/3,-z+1/3\");\n",
    "mat1 = SymmOp_1.rotation_matrix;\n",
    "tr1 = SymmOp_1.translation_vector;\n",
    "print(\"La matrice de rotation associée à cette opération est\")\n",
    "print(mat1)\n",
    "print(\"Le vecteur de translation associé est\")\n",
    "print(tr1)"
   ]
  },
  {
   "cell_type": "markdown",
   "id": "meaningful-supervision",
   "metadata": {},
   "source": [
    "L'équation correspondante est donc $\\begin{pmatrix} -1 & 0 & 0 \\\\ 0 & -1 & 0 \\\\ 0 & 0 & -1 \\end{pmatrix} \\cdot \\begin{pmatrix} x \\\\ y \\\\ z \\end{pmatrix} + \\begin{pmatrix} -\\frac{1}{3} \\\\ \\frac{1}{3} \\\\ \\frac{1}{3} \\end{pmatrix} = \\begin{pmatrix} -\\frac{1}{3}-x \\\\ \\frac{1}{3}-y \\\\ \\frac{1}{3}-z \\end{pmatrix}$"
   ]
  },
  {
   "cell_type": "markdown",
   "id": "straight-specification",
   "metadata": {},
   "source": [
    "##### Appliquée à l'atome d'oxygène situé au sein de la maille primitive en $(0,66667; 0,33333; 0,55455)$, la transformation renvoie $(-1; 0; -0,22122)$. Ramené au sein de la cellule unité, cela donne l'atome d'oxygène en $(0;0;0,77878)$. Ceci est illustré à la figure suivante."
   ]
  },
  {
   "cell_type": "code",
   "execution_count": 15,
   "id": "hindu-speaker",
   "metadata": {},
   "outputs": [
    {
     "data": {
      "application/vnd.jupyter.widget-view+json": {
       "model_id": "ec89b7fb9d1346f09cbe0410b0e351cd",
       "version_major": 2,
       "version_minor": 0
      },
      "text/plain": [
       "JsmolView(layout=Layout(align_self='stretch', height='400px'))"
      ]
     },
     "metadata": {},
     "output_type": "display_data"
    }
   ],
   "source": [
    "view1 = quick_view(struct, \"packed\", supercell = [1,1,1])\n",
    "display(view1)"
   ]
  },
  {
   "cell_type": "code",
   "execution_count": 16,
   "id": "original-bracelet",
   "metadata": {},
   "outputs": [],
   "source": [
    "view1.script(\"draw symop 14 {atomno=7}\")"
   ]
  },
  {
   "cell_type": "markdown",
   "id": "chinese-tournament",
   "metadata": {},
   "source": [
    "## Opération de symétrie n°2 : rotation hélicoïdale d'ordre 3"
   ]
  },
  {
   "cell_type": "code",
   "execution_count": 17,
   "id": "understood-clear",
   "metadata": {},
   "outputs": [
    {
     "name": "stdout",
     "output_type": "stream",
     "text": [
      "La matrice associée à cette opération est\n",
      "[[-1.  1.  0.]\n",
      " [-1.  0.  0.]\n",
      " [ 0.  0.  1.]]\n",
      "Le vecteur de translation associé est\n",
      "[-0.33333333  0.33333333  0.33333333]\n"
     ]
    }
   ],
   "source": [
    "SymmOp_2 = SymmOp.from_xyz_string(\"-x+y-1/3,-x+1/3,z+1/3\");\n",
    "mat2 = SymmOp_2.rotation_matrix;\n",
    "tr2 = SymmOp_2.translation_vector;\n",
    "print(\"La matrice de rotation associée à cette opération est\")\n",
    "print(mat2)\n",
    "print(\"Le vecteur de translation associé est\")\n",
    "print(tr2)"
   ]
  },
  {
   "cell_type": "markdown",
   "id": "assured-mortgage",
   "metadata": {},
   "source": [
    "L'équation correspondante est donc $\\begin{pmatrix} -1 & 1 & 0 \\\\ -1 & 0 & 0 \\\\ 0 & 0 & 1 \\end{pmatrix} \\cdot \\begin{pmatrix} x \\\\ y \\\\ z \\end{pmatrix} + \\begin{pmatrix} -\\frac{1}{3} \\\\ \\frac{1}{3} \\\\ \\frac{1}{3} \\end{pmatrix} = \\begin{pmatrix} -x+y-\\frac{1}{3} \\\\ -x+\\frac{1}{3} \\\\ z+\\frac{1}{3} \\end{pmatrix}$"
   ]
  },
  {
   "cell_type": "markdown",
   "id": "attached-abortion",
   "metadata": {},
   "source": [
    "##### Appliquée à l'atome de scandium situé au sein de la maille en $(0,66667; 0,33333; 0,83333)$, la transformation renvoie $(-0,66667; -0,33333; 1,16666)$. Ramené au sein de la cellule unité, cela donne l'atome de scandium en $(0,33333;0,66667;0,16667)$. Ceci est illustré à la figure suivante."
   ]
  },
  {
   "cell_type": "code",
   "execution_count": 20,
   "id": "impressed-alloy",
   "metadata": {},
   "outputs": [
    {
     "data": {
      "application/vnd.jupyter.widget-view+json": {
       "model_id": "fb874effc5b04563a14cb84e10df299c",
       "version_major": 2,
       "version_minor": 0
      },
      "text/plain": [
       "JsmolView(layout=Layout(align_self='stretch', height='400px'))"
      ]
     },
     "metadata": {},
     "output_type": "display_data"
    }
   ],
   "source": [
    "view2 = quick_view(struct, \"packed\", supercell = [1,1,1])\n",
    "display(view2)"
   ]
  },
  {
   "cell_type": "code",
   "execution_count": 21,
   "id": "isolated-recipe",
   "metadata": {},
   "outputs": [],
   "source": [
    "view2.script(\"draw symop 17 {atomno=5}\")"
   ]
  },
  {
   "cell_type": "markdown",
   "id": "finished-dominant",
   "metadata": {},
   "source": [
    "## Opération de symétrie n°3 : réflexion"
   ]
  },
  {
   "cell_type": "code",
   "execution_count": 33,
   "id": "solid-celtic",
   "metadata": {},
   "outputs": [
    {
     "name": "stdout",
     "output_type": "stream",
     "text": [
      "La matrice de rotation associée à cette opération est\n",
      "[[ 0. -1.  0.]\n",
      " [-1.  0.  0.]\n",
      " [ 0.  0.  1.]]\n",
      "Le vecteur de translation associé est\n",
      "[0. 0. 0.]\n",
      "C'est une opération symmorphique.\n"
     ]
    }
   ],
   "source": [
    "SymmOp_3 = SymmOp.from_xyz_string(\"-y,-x,z\");\n",
    "mat3 = SymmOp_3.rotation_matrix;\n",
    "tr3 = SymmOp_3.translation_vector;\n",
    "print(\"La matrice de rotation associée à cette opération est\")\n",
    "print(mat3)\n",
    "print(\"Le vecteur de translation associé est\")\n",
    "print(tr3)\n",
    "print(\"C'est une opération symmorphique.\")"
   ]
  },
  {
   "cell_type": "markdown",
   "id": "guilty-brooks",
   "metadata": {},
   "source": [
    "L'équation correspondante est donc $\\begin{pmatrix} 0 & -1 & 0 \\\\ -1 & 0 & 0 \\\\ 0 & 0 & 1 \\end{pmatrix} \\cdot \\begin{pmatrix} x \\\\ y \\\\ z \\end{pmatrix} = \\begin{pmatrix} -y \\\\ -x \\\\ z \\end{pmatrix}$"
   ]
  },
  {
   "cell_type": "markdown",
   "id": "written-macintosh",
   "metadata": {},
   "source": [
    "##### Appliquée à l'atome de tellure situé au sein de la maille primitive en $(0; 1; 1)$, la transformation renvoie $(-1; 0; 1)$. Ramené au sein de la cellule unité, cela donne l'atome de tellure en $(0;0;0)$. Ceci est illustré à la figure suivante."
   ]
  },
  {
   "cell_type": "code",
   "execution_count": 20,
   "id": "pediatric-filename",
   "metadata": {},
   "outputs": [
    {
     "data": {
      "application/vnd.jupyter.widget-view+json": {
       "model_id": "fb874effc5b04563a14cb84e10df299c",
       "version_major": 2,
       "version_minor": 0
      },
      "text/plain": [
       "JsmolView(layout=Layout(align_self='stretch', height='400px'))"
      ]
     },
     "metadata": {},
     "output_type": "display_data"
    }
   ],
   "source": [
    "view3 = quick_view(struct, \"packed\", supercell = [1,1,1])\n",
    "display(view3)"
   ]
  },
  {
   "cell_type": "code",
   "execution_count": 40,
   "id": "furnished-update",
   "metadata": {},
   "outputs": [],
   "source": [
    "view2.script(\"draw symop 8 {atomno=18}\")"
   ]
  }
 ],
 "metadata": {
  "kernelspec": {
   "display_name": "Python 3",
   "language": "python",
   "name": "python3"
  },
  "language_info": {
   "codemirror_mode": {
    "name": "ipython",
    "version": 3
   },
   "file_extension": ".py",
   "mimetype": "text/x-python",
   "name": "python",
   "nbconvert_exporter": "python",
   "pygments_lexer": "ipython3",
   "version": "3.6.8"
  }
 },
 "nbformat": 4,
 "nbformat_minor": 5
}
