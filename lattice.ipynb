{
 "cells": [
  {
   "cell_type": "code",
   "execution_count": 1,
   "id": "narrow-episode",
   "metadata": {},
   "outputs": [],
   "source": [
    "from pymatgen import Structure\n",
    "from pymatgen import Lattice\n",
    "from pymatgen.ext.matproj import MPRester\n",
    "from pymatgen.apps.borg.hive import VaspToComputedEntryDrone\n",
    "from pymatgen.apps.borg.queen import BorgQueen\n",
    "from pymatgen.entries.compatibility import MaterialsProjectCompatibility\n",
    "from pymatgen.analysis.phase_diagram import PhaseDiagram, PDPlotter\n",
    "from pymatgen.io.cif import CifWriter\n",
    "from pymatgen.io.cif import CifParser\n",
    "from pymatgen.symmetry.analyzer import SpacegroupAnalyzer"
   ]
  },
  {
   "cell_type": "code",
   "execution_count": 2,
   "id": "valuable-helping",
   "metadata": {},
   "outputs": [],
   "source": [
    "#téléchargement du fichier cif\n",
    "with MPRester(\"jUGD1Q7NTzVGDpCRI27\") as m:\n",
    "\n",
    "    # Structure for material id\n",
    "    structure = m.get_structure_by_material_id(\"mp-755219\")\n",
    "    \n",
    "    w = CifWriter(structure,symprec=1e-3);\n",
    "    w.write_file('ScTlO2.cif')"
   ]
  },
  {
   "cell_type": "code",
   "execution_count": 3,
   "id": "partial-smoke",
   "metadata": {},
   "outputs": [],
   "source": [
    "struct = Structure.from_file(\"ScTlO2.cif\")"
   ]
  },
  {
   "cell_type": "code",
   "execution_count": 4,
   "id": "original-ground",
   "metadata": {},
   "outputs": [
    {
     "name": "stdout",
     "output_type": "stream",
     "text": [
      "Les vecteurs de base du réseau direct sont les rangs de la matrice\n",
      "3.268468 0.000000 0.000000\n",
      "-1.634234 2.830576 0.000000\n",
      "0.000000 0.000000 19.440506\n"
     ]
    }
   ],
   "source": [
    "lat = struct.lattice\n",
    "print(\"Les vecteurs de base du réseau direct sont les rangs de la matrice\")\n",
    "print(lat)"
   ]
  },
  {
   "cell_type": "code",
   "execution_count": 5,
   "id": "desperate-connection",
   "metadata": {},
   "outputs": [
    {
     "name": "stdout",
     "output_type": "stream",
     "text": [
      "Les vecteurs de base du réseau réciproque sont les rangs de la matrice\n",
      "1.922364 1.109877 0.000000\n",
      "0.000000 2.219755 0.000000\n",
      "-0.000000 -0.000000 0.323201\n"
     ]
    }
   ],
   "source": [
    "print(\"Les vecteurs de base du réseau réciproque sont les rangs de la matrice\")\n",
    "print(lat.reciprocal_lattice)"
   ]
  },
  {
   "cell_type": "code",
   "execution_count": 6,
   "id": "christian-bernard",
   "metadata": {},
   "outputs": [],
   "source": [
    "sg = SpacegroupAnalyzer(struct)"
   ]
  },
  {
   "cell_type": "code",
   "execution_count": 7,
   "id": "suspended-trade",
   "metadata": {},
   "outputs": [
    {
     "name": "stdout",
     "output_type": "stream",
     "text": [
      "Le type de maille est rhombohedral\n"
     ]
    }
   ],
   "source": [
    "maille = sg.get_lattice_type()\n",
    "print(\"Le type de maille est {}\".format(maille))"
   ]
  },
  {
   "cell_type": "code",
   "execution_count": 8,
   "id": "vocational-focus",
   "metadata": {},
   "outputs": [
    {
     "name": "stdout",
     "output_type": "stream",
     "text": [
      "Le système cristallin est trigonal\n"
     ]
    }
   ],
   "source": [
    "cs = sg.get_crystal_system()\n",
    "print(\"Le système cristallin est {}\".format(cs))"
   ]
  },
  {
   "cell_type": "code",
   "execution_count": 9,
   "id": "informational-thesaurus",
   "metadata": {},
   "outputs": [
    {
     "name": "stdout",
     "output_type": "stream",
     "text": [
      "Le groupe ponctuel est -3m\n"
     ]
    }
   ],
   "source": [
    "pg = sg.get_point_group_symbol()\n",
    "print(\"Le groupe ponctuel est {}\".format(pg))"
   ]
  }
 ],
 "metadata": {
  "kernelspec": {
   "display_name": "Python 3",
   "language": "python",
   "name": "python3"
  },
  "language_info": {
   "codemirror_mode": {
    "name": "ipython",
    "version": 3
   },
   "file_extension": ".py",
   "mimetype": "text/x-python",
   "name": "python",
   "nbconvert_exporter": "python",
   "pygments_lexer": "ipython3",
   "version": "3.6.8"
  }
 },
 "nbformat": 4,
 "nbformat_minor": 5
}
