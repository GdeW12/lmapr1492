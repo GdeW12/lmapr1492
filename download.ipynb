{
 "cells": [
  {
   "cell_type": "code",
   "execution_count": 1,
   "id": "specified-correction",
   "metadata": {},
   "outputs": [],
   "source": [
    "from pymatgen import Structure\n",
    "from pymatgen.ext.matproj import MPRester\n",
    "from pymatgen.apps.borg.hive import VaspToComputedEntryDrone\n",
    "from pymatgen.apps.borg.queen import BorgQueen\n",
    "from pymatgen.entries.compatibility import MaterialsProjectCompatibility\n",
    "from pymatgen.analysis.phase_diagram import PhaseDiagram, PDPlotter\n",
    "from pymatgen.io.cif import CifWriter\n",
    "from pymatgen.io.cif import CifParser"
   ]
  },
  {
   "cell_type": "code",
   "execution_count": 3,
   "id": "drawn-sample",
   "metadata": {},
   "outputs": [],
   "source": [
    "with MPRester(\"jUGD1Q7NTzVGDpCRI27\") as m:\n",
    "\n",
    " \n",
    "\n",
    "    # Structure for material id\n",
    "    structure = m.get_structure_by_material_id(\"mp-755219\")\n",
    "\n",
    " \n",
    "\n",
    "    # Dos for material id\n",
    "    dos = m.get_dos_by_material_id(\"mp-755219\")\n",
    "\n",
    " \n",
    "\n",
    "    # Bandstructure for material id\n",
    "    bandstructure = m.get_bandstructure_by_material_id(\"mp-755219\")\n",
    "    \n",
    "    w = CifWriter(structure,symprec=1e-5);\n",
    "    w.write_file('mystructuremp-.cif')"
   ]
  }
 ],
 "metadata": {
  "kernelspec": {
   "display_name": "Python 3",
   "language": "python",
   "name": "python3"
  },
  "language_info": {
   "codemirror_mode": {
    "name": "ipython",
    "version": 3
   },
   "file_extension": ".py",
   "mimetype": "text/x-python",
   "name": "python",
   "nbconvert_exporter": "python",
   "pygments_lexer": "ipython3",
   "version": "3.6.8"
  }
 },
 "nbformat": 4,
 "nbformat_minor": 5
}
